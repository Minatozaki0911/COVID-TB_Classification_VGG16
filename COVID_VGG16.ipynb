{
  "nbformat": 4,
  "nbformat_minor": 0,
  "metadata": {
    "colab": {
      "name": "COVID-VGG16.ipynb",
      "provenance": [],
      "mount_file_id": "10THLovrujplX21Rd14gWCoXj01KKPEss",
      "authorship_tag": "ABX9TyNyZd6PjC+n7UbXEkD52gje",
      "include_colab_link": true
    },
    "kernelspec": {
      "name": "python3",
      "display_name": "Python 3"
    },
    "language_info": {
      "name": "python"
    }
  },
  "cells": [
    {
      "cell_type": "markdown",
      "metadata": {
        "id": "view-in-github",
        "colab_type": "text"
      },
      "source": [
        "<a href=\"https://colab.research.google.com/github/Minatozaki0911/summerIntern203/blob/master/COVID_VGG16.ipynb\" target=\"_parent\"><img src=\"https://colab.research.google.com/assets/colab-badge.svg\" alt=\"Open In Colab\"/></a>"
      ]
    },
    {
      "cell_type": "code",
      "metadata": {
        "id": "45OMCDBwkJPY",
        "colab": {
          "base_uri": "https://localhost:8080/"
        },
        "outputId": "9c2302d6-5a93-46a2-b96e-1b95fe60db4b"
      },
      "source": [
        "from google.colab import drive\n",
        "drive.mount('/content/drive/')"
      ],
      "execution_count": 1,
      "outputs": [
        {
          "output_type": "stream",
          "text": [
            "Drive already mounted at /content/drive/; to attempt to forcibly remount, call drive.mount(\"/content/drive/\", force_remount=True).\n"
          ],
          "name": "stdout"
        }
      ]
    },
    {
      "cell_type": "code",
      "metadata": {
        "id": "VB9b3yq1p3kE",
        "colab": {
          "base_uri": "https://localhost:8080/"
        },
        "outputId": "0b786e2e-364e-4839-c78a-2aa0237b374f"
      },
      "source": [
        "!pip install keras"
      ],
      "execution_count": 2,
      "outputs": [
        {
          "output_type": "stream",
          "text": [
            "Requirement already satisfied: keras in /usr/local/lib/python3.7/dist-packages (2.4.3)\n",
            "Requirement already satisfied: numpy>=1.9.1 in /usr/local/lib/python3.7/dist-packages (from keras) (1.19.5)\n",
            "Requirement already satisfied: scipy>=0.14 in /usr/local/lib/python3.7/dist-packages (from keras) (1.4.1)\n",
            "Requirement already satisfied: pyyaml in /usr/local/lib/python3.7/dist-packages (from keras) (3.13)\n",
            "Requirement already satisfied: h5py in /usr/local/lib/python3.7/dist-packages (from keras) (3.1.0)\n",
            "Requirement already satisfied: cached-property in /usr/local/lib/python3.7/dist-packages (from h5py->keras) (1.5.2)\n"
          ],
          "name": "stdout"
        }
      ]
    },
    {
      "cell_type": "code",
      "metadata": {
        "id": "h2xYJBw6lM7J"
      },
      "source": [
        " import keras\n",
        " from keras.layers import Dense, Flatten, Conv2D, MaxPooling2D, Dropout\n",
        " from keras.models import Model, Sequential\n",
        " from keras.preprocessing.image import ImageDataGenerator\n",
        " from keras.models import load_model\n",
        " import numpy as np\n",
        " import matplotlib.pyplot as plt"
      ],
      "execution_count": 3,
      "outputs": []
    },
    {
      "cell_type": "code",
      "metadata": {
        "id": "S_pzaOYGqGRS"
      },
      "source": [
        "IMAGE_SIZE = (224,224)\n",
        "BATCH_SIZE = 32"
      ],
      "execution_count": 4,
      "outputs": []
    },
    {
      "cell_type": "code",
      "metadata": {
        "id": "y2JnzwfnqMR2"
      },
      "source": [
        "path = '/content/drive/MyDrive/Dataset/CT_COVID'"
      ],
      "execution_count": 5,
      "outputs": []
    },
    {
      "cell_type": "code",
      "metadata": {
        "id": "vIGb6qUctn8r",
        "colab": {
          "base_uri": "https://localhost:8080/"
        },
        "outputId": "12a1f6f4-ed04-4e95-d412-51d9eeafa2bb"
      },
      "source": [
        "datagen = ImageDataGenerator(rescale=1./255,\n",
        "                             shear_range=0.1,\n",
        "                             zoom_range=0.1,\n",
        "                             horizontal_flip=True,\n",
        "                             validation_split=0.2)\n",
        "\n",
        "train_generator = datagen.flow_from_directory(path, \n",
        "                                               target_size=(224,224),\n",
        "                                               batch_size=BATCH_SIZE,\n",
        "                                               color_mode='grayscale',\n",
        "                                               class_mode='binary',\n",
        "                                               shuffle=True,\n",
        "                                               subset='training')\n",
        "validation_generator = datagen.flow_from_directory(path, \n",
        "                                               target_size=IMAGE_SIZE,\n",
        "                                               batch_size=BATCH_SIZE,\n",
        "                                               color_mode='grayscale',\n",
        "                                               class_mode='binary',\n",
        "                                               shuffle=True,\n",
        "                                               subset='validation')"
      ],
      "execution_count": 88,
      "outputs": [
        {
          "output_type": "stream",
          "text": [
            "Found 1986 images belonging to 2 classes.\n",
            "Found 495 images belonging to 2 classes.\n"
          ],
          "name": "stdout"
        }
      ]
    },
    {
      "cell_type": "code",
      "metadata": {
        "id": "EuzvZvn5YUA0"
      },
      "source": [
        "def VGG16():\n",
        "  model = Sequential()\n",
        "  model.add(Conv2D(16, 3, padding='same', activation='relu', input_shape=(224,224,1)))\n",
        "  model.add(Conv2D(16, 3, padding='same', activation='relu'))\n",
        "  model.add(MaxPooling2D(pool_size=(2,2), strides=(2,2)))\n",
        "  model.add(Dropout(0.2))\n",
        "  model.add(Conv2D(32, 3, padding='same', activation='relu'))\n",
        "  model.add(Conv2D(32, 3, padding='same', activation='relu'))\n",
        "  model.add(MaxPooling2D(pool_size=(2,2), strides=(2,2)))\n",
        "  model.add(Dropout(0.2))\n",
        "  model.add(Flatten())\n",
        "  model.add(Dense(128, activation='relu'))\n",
        "  model.add(Dense(64, activation='relu'))\n",
        "  model.add(Dense(1, activation='sigmoid'))\n",
        "  return model"
      ],
      "execution_count": 7,
      "outputs": []
    },
    {
      "cell_type": "code",
      "metadata": {
        "id": "2siSCQr_I8aU"
      },
      "source": [
        "model = VGG16()\n",
        "model.summary()"
      ],
      "execution_count": null,
      "outputs": []
    },
    {
      "cell_type": "code",
      "metadata": {
        "id": "kpeRgVCs_uIw"
      },
      "source": [
        "initial_learning_rate = 0.0001\n",
        "lr_schedule = keras.optimizers.schedules.ExponentialDecay(\n",
        "    initial_learning_rate, decay_steps=100000, decay_rate=0.96, staircase=True\n",
        ")"
      ],
      "execution_count": 9,
      "outputs": []
    },
    {
      "cell_type": "markdown",
      "metadata": {
        "id": "nAGD4rR309hJ"
      },
      "source": [
        ""
      ]
    },
    {
      "cell_type": "code",
      "metadata": {
        "id": "9AAzNNbqJLWY"
      },
      "source": [
        "model.compile(optimizer=keras.optimizers.Adam(learning_rate=lr_schedule),\n",
        "              loss='binary_crossentropy',\n",
        "              metrics=['acc'])"
      ],
      "execution_count": 10,
      "outputs": []
    },
    {
      "cell_type": "code",
      "metadata": {
        "id": "cOSyqcpv_9BE"
      },
      "source": [
        "checkpoint_cb = keras.callbacks.ModelCheckpoint(\n",
        "    \"COVID_VGG16_checkpoint.h5\", save_best_only=True)\n",
        "early_stopping_cb = keras.callbacks.EarlyStopping(monitor=\"val_acc\", patience=15)"
      ],
      "execution_count": 11,
      "outputs": []
    },
    {
      "cell_type": "code",
      "metadata": {
        "id": "hpTQm_jdJm89"
      },
      "source": [
        "history = model.fit(train_generator, \n",
        "                    validation_data=validation_generator,\n",
        "                    shuffle=True,\n",
        "                    epochs=20,\n",
        "                    verbose=1,\n",
        "                    callbacks=[checkpoint_cb, early_stopping_cb])"
      ],
      "execution_count": null,
      "outputs": []
    },
    {
      "cell_type": "code",
      "metadata": {
        "id": "dfPzgCZFAjEc",
        "colab": {
          "base_uri": "https://localhost:8080/",
          "height": 198
        },
        "outputId": "a7a370c5-172a-4f0c-b56f-9a4ef36d5f38"
      },
      "source": [
        "fig, ax = plt.subplots(1, 2, figsize=(20, 3))\n",
        "ax = ax.ravel()\n",
        "\n",
        "for i, metric in enumerate([\"acc\", \"loss\"]):\n",
        "    ax[i].plot(model.history.history[metric])\n",
        "    ax[i].plot(model.history.history[\"val_\" + metric])\n",
        "    ax[i].set_title(\"Model {}\".format(metric))\n",
        "    ax[i].set_xlabel(\"epochs\")\n",
        "    ax[i].set_ylabel(metric)\n",
        "    ax[i].legend([\"train\", \"val\"])"
      ],
      "execution_count": 13,
      "outputs": [
        {
          "output_type": "display_data",
          "data": {
            "image/png": "[encoded data removed]",
            "text/plain": [
              "<Figure size 1440x216 with 2 Axes>"
            ]
          },
          "metadata": {
            "tags": [],
            "needs_background": "light"
          }
        }
      ]
    },
    {
      "cell_type": "code",
      "metadata": {
        "id": "Tn4OUDSEKPSa",
        "colab": {
          "base_uri": "https://localhost:8080/"
        },
        "outputId": "7135c3ef-ff80-4028-e137-839f7847abe8"
      },
      "source": [
        "model.evaluate(validation_generator)"
      ],
      "execution_count": 70,
      "outputs": [
        {
          "output_type": "stream",
          "text": [
            "16/16 [==============================] - 15s 931ms/step - loss: 0.3919 - acc: 0.7980\n"
          ],
          "name": "stdout"
        },
        {
          "output_type": "execute_result",
          "data": {
            "text/plain": [
              "[0.39186152815818787, 0.7979797720909119]"
            ]
          },
          "metadata": {
            "tags": []
          },
          "execution_count": 70
        }
      ]
    },
    {
      "cell_type": "code",
      "metadata": {
        "colab": {
          "base_uri": "https://localhost:8080/"
        },
        "id": "q4Dl9BWsIwAf",
        "outputId": "a003128f-77ff-48ae-d46f-97f370b1e233"
      },
      "source": [
        "import os\n",
        "os.chdir('/content/drive/MyDrive/Colab Notebooks')\n",
        "model.save(\"COVID_VGG16_Model\")\n",
        "model.save(\"COVID_VGG16.h5\")"
      ],
      "execution_count": 26,
      "outputs": [
        {
          "output_type": "stream",
          "text": [
            "INFO:tensorflow:Assets written to: COVID_VGG16_Model/assets\n"
          ],
          "name": "stdout"
        }
      ]
    },
    {
      "cell_type": "code",
      "metadata": {
        "colab": {
          "base_uri": "https://localhost:8080/"
        },
        "id": "Mmx8_Wrq7gfy",
        "outputId": "33bd5349-56ab-4bb2-fc53-7e54e26260c4"
      },
      "source": [
        "test_path = '/content/drive/MyDrive/Colab Notebooks/'\n",
        "\n",
        "test_datagen = ImageDataGenerator(rescale=1./255)\n",
        "test_generator = test_datagen.flow_from_directory(\n",
        "    directory=test_path,\n",
        "    target_size=(224, 224),\n",
        "    color_mode=\"grayscale\",\n",
        "    classes=['test'],\n",
        "    class_mode='binary',\n",
        "    batch_size=1,\n",
        "    shuffle=False)\n",
        "print(test_generator.filenames)\n"
      ],
      "execution_count": 170,
      "outputs": [
        {
          "output_type": "stream",
          "text": [
            "Found 9 images belonging to 1 classes.\n",
            "['test/covid-19-pneumonia-182.jpg', 'test/covid-19-pneumonia-30.jpg', 'test/covid-19-pneumonia-56.jpg', 'test/covid-19-pneumonia-94.png', 'test/normal-chest-ct-1 (1).jpg', 'test/normal-chest-ct-1 (2).jpg', 'test/normal-chest-ct-1 (3).jpg', 'test/normal-chest-ct-1 (5).jpg', 'test/normal-chest-ct-1 (6).png']\n"
          ],
          "name": "stdout"
        }
      ]
    },
    {
      "cell_type": "code",
      "metadata": {
        "colab": {
          "base_uri": "https://localhost:8080/"
        },
        "id": "vh0CRduX3o87",
        "outputId": "3c113a95-f1b2-4aeb-c606-ad3a867930bd"
      },
      "source": [
        "predictions = new_model.predict(test_generator)\n",
        "for i in range(0, (test_generator.labels.shape[0])):\n",
        "  if predictions[i] > 0.005:\n",
        "    print(test_generator.filenames[i] + 'is normal')\n",
        "  else:\n",
        "    print(test_generator.filenames[i] + 'is COVID')"
      ],
      "execution_count": 171,
      "outputs": [
        {
          "output_type": "stream",
          "text": [
            "test/covid-19-pneumonia-182.jpgis COVID\n",
            "test/covid-19-pneumonia-30.jpgis normal\n",
            "test/covid-19-pneumonia-56.jpgis COVID\n",
            "test/covid-19-pneumonia-94.pngis COVID\n",
            "test/normal-chest-ct-1 (1).jpgis COVID\n",
            "test/normal-chest-ct-1 (2).jpgis normal\n",
            "test/normal-chest-ct-1 (3).jpgis normal\n",
            "test/normal-chest-ct-1 (5).jpgis normal\n",
            "test/normal-chest-ct-1 (6).pngis normal\n"
          ],
          "name": "stdout"
        }
      ]
    }
  ]
}